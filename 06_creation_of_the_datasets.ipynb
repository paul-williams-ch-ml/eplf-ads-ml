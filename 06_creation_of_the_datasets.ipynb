{
 "cells": [
  {
   "cell_type": "markdown",
   "id": "institutional-zambia",
   "metadata": {},
   "source": [
    "# SECTION TWO: Creation of the Feature Data Sets\n",
    "In this part of the project feature data sets are created from the downloaded images.\n",
    "\n",
    "__07]__ <a href=\"07_generate_image_tiles.ipynb\">Generate Image Tiles</a> <br/>\n",
    "__08]__ <a href=\"08_extract_features_from_the_image_tiles.ipynb\">Extract Features from Image Tiles</a> <br/>\n",
    "__09]__ <a href=\"09_create_the_3_image_tile_feature_sets.ipynb\">Create the Image Tile Feature Sets</a> <br/>\n",
    "__10]__ <a href=\"10_create_the_3_full_image_feature_sets.ipynb\">Create the Full Image Feature Sets</a> <br/>\n",
    "__11]__ <a href=\"11_create_the_3_colour_sets.ipynb\">Create the Colour Feature Sets</a> <br/>\n",
    "__12]__ <a href=\"12_create_the_3_colour_palette_sets_kmeans.ipynb\">Create the Palette Feature Sets</a> <br/>\n",
    "__13]__ <a href=\"13_create_the_3_colour_large_palette_sets_kmeans.ipynb\">Create the Large Palette Feature Sets</a> <br/>\n",
    "__14]__ <a href=\"14_data_sanity_check.ipynb\">Data Santiy Check"
   ]
  }
 ],
 "metadata": {
  "kernelspec": {
   "display_name": "Python 3",
   "language": "python",
   "name": "python3"
  },
  "language_info": {
   "codemirror_mode": {
    "name": "ipython",
    "version": 3
   },
   "file_extension": ".py",
   "mimetype": "text/x-python",
   "name": "python",
   "nbconvert_exporter": "python",
   "pygments_lexer": "ipython3",
   "version": "3.6.10"
  }
 },
 "nbformat": 4,
 "nbformat_minor": 5
}
