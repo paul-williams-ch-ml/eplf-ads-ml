{
 "cells": [
  {
   "cell_type": "markdown",
   "id": "professional-latter",
   "metadata": {},
   "source": [
    "# Comments & Thoughts"
   ]
  },
  {
   "cell_type": "markdown",
   "id": "copyrighted-filter",
   "metadata": {},
   "source": [
    "## Results"
   ]
  },
  {
   "cell_type": "markdown",
   "id": "attached-girlfriend",
   "metadata": {},
   "source": [
    "## __Goal 1__ - Identify the the Artist that created the selected Work of Art.\n",
    "This models works quite well"
   ]
  },
  {
   "cell_type": "markdown",
   "id": "unable-booth",
   "metadata": {},
   "source": [
    "## __Goal 2__ - Attempt to identify both the Genre & Style of the Work of Art.\n",
    "The results here are a little disappointing we reffering just to the Dense Neural Net predictions. With the introduction of the Artists know body of work weights we do see some improvement to the results. But, of course the weights rely on the correct identification of the Artist. "
   ]
  },
  {
   "cell_type": "markdown",
   "id": "educated-scoop",
   "metadata": {},
   "source": [
    "## __Goal 3__ - Recommend visually similar Works of Art that would complement the chosen Work of Art.\n",
    "This mode works quite well"
   ]
  },
  {
   "cell_type": "markdown",
   "id": "objective-squad",
   "metadata": {},
   "source": [
    "## Thoughts\n",
    "\n",
    "It soon becaome clear that the project subject was more complicated than I had originally estimated. <br/>\n",
    "I had hoped to get better results with the Colour data, both the Colour distribusions and the Palettes. But, whilst investigating this topic it became clear that processing detailed colour data is much more complicate than might be first expected. <br/>\n",
    "The other forms of data worked quite well. <br/>\n",
    "During this project I was able to re-visit may topics covered throught the course. <br/>\n",
    "The goals were achieved"
   ]
  },
  {
   "cell_type": "markdown",
   "id": "empty-spyware",
   "metadata": {},
   "source": [
    "## Improvements\n",
    "Should this project be extended into a full system. What should be changed?\n",
    "\n",
    "- Higher resultion images would provide more detail.\n",
    "- Contolled lighting when taking photos of the images would provide better colour accurancy.\n",
    "- Smaller tile size/larger number of tiles. The tile size was limited by processing resourses availabe and time. A greater number of tiles would allow closer focus on detail. (The number of tile is itself a custom Hyperparameter).\n",
    "- More consistancy in the labelling of Genre & Style. For Genre only one value is given, whereas for Style sometime multiple values are given. Maybe if additional Genres were given it would be better. For instance a _Portrait_ could easily be defined as a _Regious-Painting_, a _Mythilogical-Painting_, or even a _Nude_Painting_. Another case is when does a _Landscape_ become a _Cityscape_.\n",
    "- A larger dataset with more examples of the more obsure Styles & Genres. Again, the biggest limiting factors here are processing resources and time."
   ]
  }
 ],
 "metadata": {
  "kernelspec": {
   "display_name": "Python 3",
   "language": "python",
   "name": "python3"
  },
  "language_info": {
   "codemirror_mode": {
    "name": "ipython",
    "version": 3
   },
   "file_extension": ".py",
   "mimetype": "text/x-python",
   "name": "python",
   "nbconvert_exporter": "python",
   "pygments_lexer": "ipython3",
   "version": "3.6.10"
  }
 },
 "nbformat": 4,
 "nbformat_minor": 5
}
