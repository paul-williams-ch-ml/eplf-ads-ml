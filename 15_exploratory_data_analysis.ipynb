{
 "cells": [
  {
   "cell_type": "markdown",
   "id": "announced-geneva",
   "metadata": {},
   "source": [
    "# SECTION THREE: Exploratory Data Analysis\n",
    "In this part of the project the feature data is analysied. Then as we move on, som manual experimentaions are performed to investigate hyperparameters and their effects on the data."
   ]
  },
  {
   "cell_type": "markdown",
   "id": "gothic-instrumentation",
   "metadata": {},
   "source": [
    "__16__ <a href=\"16_exploratory_data_analysis_pca_with_colour_palettes.ipynb\">Principal Component Analysis with Palette Data</a> <br/>\n",
    "__17__ <a href=\"17_exploratory_data_analysis_pca_with_colours.ipynb\">Principal Component Analysis with Colour Data</a> <br/>\n",
    "__18__ <a href=\"18_exploratory_data_analysis_pca_with_colour_large_palettes.ipynb\">Principal Component Analysis with Large Palette Data</a> <br/>\n",
    "__19__ <a href=\"19_exploratory_data_analysis_pca_with_image.ipynb\">Principal Component Analysis with Full Image Data</a> <br/>\n",
    "__20__ <a href=\"20_exploratory_data_analysis_k_nearest_neighbor_with_images.ipynb\">K Nearest Neighbor with Full Image Data</a> <br/>\n",
    "__21__ <a href=\"21_exploratory_data_analysis_logistic_regression_with_images.ipynb\">Logistic Regression with Full Image Data</a> <br/>\n",
    "__22__ <a href=\"22_exploratory_data_analysis_logistic_regression_with_colour_palettes_rgb.ipynb\">Logistic Regression with Colour Palette Data</a> <br/>\n",
    "__23__ <a href=\"23_exploratory_data_analysis_logistic_regression_with_colour_palettes_hls.ipynb\">Logistic Regression with Colour Palette Data</a> <br/>\n",
    "__24__ <a href=\"24_exploratory_data_analysis_dense_nn.ipynb\">Dense NN</a> <br/>"
   ]
  },
  {
   "cell_type": "markdown",
   "id": "included-dress",
   "metadata": {},
   "source": [
    "__NOTE:__ In notebooks __16__ & __18__ I use ___ipwidgets___ to display interactive 3d plots using the first 3 PCA values. For the plots to display correctly ipwidgets must be enabled <br/>\n",
    "<br/>_Example:_ <br/>\n",
    "<img src=\"./images/3d_pca_plot.png\" width=\"800\"><br/>\n",
    "For the plots to display correctly ipwidgets must be enabled within your environment: <br/>\n",
    "<img src=\"./images/ipwidgets_plugings.png\" width=\"400\"><br/>\n",
    "Non-interactive 2D plots are also included in the notebooks. "
   ]
  }
 ],
 "metadata": {
  "kernelspec": {
   "display_name": "Python 3",
   "language": "python",
   "name": "python3"
  },
  "language_info": {
   "codemirror_mode": {
    "name": "ipython",
    "version": 3
   },
   "file_extension": ".py",
   "mimetype": "text/x-python",
   "name": "python",
   "nbconvert_exporter": "python",
   "pygments_lexer": "ipython3",
   "version": "3.6.10"
  }
 },
 "nbformat": 4,
 "nbformat_minor": 5
}
