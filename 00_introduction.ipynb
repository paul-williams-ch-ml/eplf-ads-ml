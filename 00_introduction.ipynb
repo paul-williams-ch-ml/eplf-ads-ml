{
 "cells": [
  {
   "cell_type": "markdown",
   "id": "touched-indonesian",
   "metadata": {},
   "source": [
    "# EPFL Data Science - Machine Learning: Capstone Project - Artwork Analyser\n",
    "\n",
    "## Author: Paul Williams\n",
    "\n",
    "## Context\n",
    "The Catagorization of Works of Art (Specifically 2 dimensional works of art such as paintings, drawings, cartoons, etchings and sketches). <br/><br/>\n",
    "\n",
    "## Goals \n",
    "\n",
    "__GOAL 1__ Identify the the Artist that created the selected Work of Art. <br/>\n",
    "\n",
    "__GOAL 2__ Atempt to identify both the _Genre_ & _Style_ of the Work of Art. <br/>\n",
    "\n",
    "__GOAL 3__ Recommend visually similar Works of Art that would complement the chosen Work of Art \n",
    "\n",
    "## Data Source\n",
    "All text and image based data is copied from the <a href=\"https://www.wikiart.org/en\">__WikiArt.org__</a> website (_English Edition_)\n",
    "\n",
    "## Artwork Text Based Data\n",
    "During the webscraping process, text based data about the artworks is collected. This includes:\n",
    "- Artist Name\n",
    "- Artwork Title\n",
    "- Created Year\n",
    "- Style\n",
    "- Genre\n",
    "\n",
    "## Artists Body of Work Data\n",
    "From the Text Based Data details of the Artist _Body of Work_ can be extracted. Such as:\n",
    "- The percentage of the artworks produced by an Artist are of a particular Style.\n",
    "- The percentage of the artworks produced by an Artist are of a particular Genre.\n",
    "\n",
    "## Image Data\n",
    "Once the image files of the aertworks have been downloaded, data is extracted using the following methods:\n",
    "\n",
    "__Method 1__ The images will be resized to a thumbnail size and features generated using: https://tfhub.dev/google/imagenet/mobilenet_v2_100_96/feature_vector/3. For each image 1280 features will be created. <br/>\n",
    "\n",
    "__Method 2__ Images will be resized and reshaped then cut up into a grid of 64 equally sized tiles. Each tile will then have features generated using: https://tfhub.dev/google/imagenet/mobilenet_v2_100_96/feature_vector/3. for each tile 1280 features will be created. So, collectively 81920 features will be held for each Artwork.\n",
    "\n",
    "__Method 3__ RGB (_Red, Green, Blue_) colour information will be extracted. Each image will be resized to 100x100 pixels (10000 pixels). The RGB values will be extracted. Each colour will be mapped across the value range 0-255 (256 colur levels). These will be combined into a set of 768 colour levels. <br/>\n",
    "\n",
    "__Method 4__ Colour Palettes will be generated from each Work of Art. The Paletted will be created with the use of KMeans Clustering. A standard Palette of 16 coulous and a large Palette of 96 coulurs will created for each Work of Art. The colour feature values of these Palette will be able to be viewed as either RGB (_Red, Green, Blue_) and HLS (_Hue, Luminence & Saturation_).\n",
    "\n",
    "\n",
    "\n",
    "## Project Sections\n",
    "<a href=\"00_introduction.ipynb\">__SECTION ONE: Data Collection__</a> <br/>\n",
    "<a href=\"06_creation_of_the_datasets.ipynb\">__SECTION TWO: Creation of the Feature Data Sets__</a> <br/>\n",
    "<a href=\"15_exploratory_data_analysis.ipynb\">__SECTION THREE: Exploratory Data Analysis__</a> <br/>\n",
    "<a href=\"25_hyperparameter_evaluation.ipynb\">__SECTION FOUR: Hyperparameter Evaluation__</a> <br/>\n",
    "<a href=\"34_the_predictor.ipynb\">__SECTION FIVE: The Artwork Predictor__</a> <br/>"
   ]
  },
  {
   "cell_type": "markdown",
   "id": "durable-staff",
   "metadata": {},
   "source": [
    "# SECTION ONE: Data Collection\n",
    "In this part of the project the text data is collected, cleaned and placed within a RDBMS. <br/>\n",
    "The image data is downloaded ready for feature data sets are creatation in Section Two."
   ]
  },
  {
   "cell_type": "markdown",
   "id": "clear-dallas",
   "metadata": {},
   "source": [
    "__01]__ <a href=\"01_painting_details_scraping.ipynb\">Painting Details Scraping</a> <br/>\n",
    "__02]__ <a href=\"02_clean_data.ipynb\">Clean the Data</a> <br/>\n",
    "__03]__ <a href=\"03_first_look_at_the_meta_data.ipynb\">A First Look at the Data</a> <br/>\n",
    "__04]__ <a href=\"04_create_database.ipynb\">Create a Database</a> <br/>\n",
    "__05]__ <a href=\"05_get_artwork_images.ipynb\">Get Artwork Images</a> <br/>"
   ]
  }
 ],
 "metadata": {
  "kernelspec": {
   "display_name": "Python 3",
   "language": "python",
   "name": "python3"
  },
  "language_info": {
   "codemirror_mode": {
    "name": "ipython",
    "version": 3
   },
   "file_extension": ".py",
   "mimetype": "text/x-python",
   "name": "python",
   "nbconvert_exporter": "python",
   "pygments_lexer": "ipython3",
   "version": "3.6.10"
  }
 },
 "nbformat": 4,
 "nbformat_minor": 5
}
