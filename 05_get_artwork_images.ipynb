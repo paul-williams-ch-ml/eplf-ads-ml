{
 "cells": [
  {
   "cell_type": "markdown",
   "metadata": {},
   "source": [
    "# Get Artwork Images\n",
    "Pull the Artwork image files from the website."
   ]
  },
  {
   "cell_type": "code",
   "execution_count": 1,
   "metadata": {},
   "outputs": [],
   "source": [
    "import pandas as pd\n",
    "import requests\n",
    "import sqlite3\n",
    "import time\n",
    "import sys"
   ]
  },
  {
   "cell_type": "code",
   "execution_count": null,
   "metadata": {},
   "outputs": [],
   "source": [
    "data_file_path = \"./data/\""
   ]
  },
  {
   "cell_type": "markdown",
   "metadata": {},
   "source": [
    "## Connect to the Database"
   ]
  },
  {
   "cell_type": "code",
   "execution_count": 3,
   "metadata": {},
   "outputs": [],
   "source": [
    "# Create a DB connection between python and the file system\n",
    "conn = sqlite3.connect(''.join([data_file_path,\"/database/artist.db\"]))"
   ]
  },
  {
   "cell_type": "markdown",
   "metadata": {},
   "source": [
    "## Extract Image Name & URL From the Database\n",
    "__NOTE:__ the predefined _image_filename_ contains an _image_tag_ value. This identifies both the Artist and the Artwork."
   ]
  },
  {
   "cell_type": "code",
   "execution_count": 4,
   "metadata": {},
   "outputs": [],
   "source": [
    "# Simple SELECT (1 table)\n",
    "image_data = pd.read_sql_query(\"\"\"SELECT IMAGE_FILENAME,\n",
    "                                         URL\n",
    "                                  FROM   ARTWORK_IMAGE;\"\"\", conn)"
   ]
  },
  {
   "cell_type": "markdown",
   "metadata": {},
   "source": [
    "## Request the Image Files\n",
    "The images are pulled and saved to disk with the predefined filename. <br/>\n",
    "__NOTE:__ As each file is downloaded the _Downloaded_ count below this code cell is incremeted by one. <br/>\n",
    "__NOTE:__ A short pause was introduced every 50 images so that the webserver is not bombarded with a list of requests."
   ]
  },
  {
   "cell_type": "code",
   "execution_count": 5,
   "metadata": {},
   "outputs": [
    {
     "name": "stdout",
     "output_type": "stream",
     "text": [
      "Downloaded: 3306"
     ]
    }
   ],
   "source": [
    "# set download counter\n",
    "download_count = 0\n",
    "\n",
    "# loop throught the dataset containing image names and urls fro the database select\n",
    "for index, row in image_data.iterrows():\n",
    "\n",
    "    try:\n",
    "        # make a GET request for the image file\n",
    "        response = requests.get(row[\"url\"])\n",
    "\n",
    "        # open a file on the fs and write the response data from the GET\n",
    "        with open(\"\".join([data_file_path,\"images/\", row[\"image_filename\"]]), \"wb\") as image_file:\n",
    "            image_file.write(response.content)\n",
    "    except:\n",
    "        # heads up should an image fail\n",
    "        print(\"\".join([\"ERROR RETREIVING: [\", row[\"image_filename\"] , \"] URL: \", row[\"url\"]]))\n",
    "    \n",
    "    # increment the download counter\n",
    "    download_count += 1\n",
    "    \n",
    "    sys.stdout.write(f\"\\rDownloaded: {str(download_count).zfill(4)}\")\n",
    "    \n",
    "    # at the point of 50 images being downloaded pause for 5 seconds (don't look like a DDOS)\n",
    "    if download_count % 50 == 0:\n",
    "        time.sleep(5)"
   ]
  }
 ],
 "metadata": {
  "kernelspec": {
   "display_name": "Python 3",
   "language": "python",
   "name": "python3"
  },
  "language_info": {
   "codemirror_mode": {
    "name": "ipython",
    "version": 3
   },
   "file_extension": ".py",
   "mimetype": "text/x-python",
   "name": "python",
   "nbconvert_exporter": "python",
   "pygments_lexer": "ipython3",
   "version": "3.6.10"
  }
 },
 "nbformat": 4,
 "nbformat_minor": 4
}
