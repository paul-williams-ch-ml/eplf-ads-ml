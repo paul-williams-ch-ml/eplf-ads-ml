{
 "cells": [
  {
   "cell_type": "markdown",
   "id": "handy-morris",
   "metadata": {},
   "source": [
    "# SECTION FOUR: Hyperparameter Evaluation\n",
    "In this part of the project we evaluate the various Models and their Hyperparameter values using automated techniques. <br/>\n",
    "The results from the tests are stored in _.csv_ files and are used in the results notebook to identify the best Model and Hyperparameter settings for each target."
   ]
  },
  {
   "cell_type": "markdown",
   "id": "spiritual-consumption",
   "metadata": {},
   "source": [
    "__26]__ <a href=\"26_hyperparameter_evaluation_support_vector_classifier.ipynb\">Hyperparameter Eveluation for the Support Vector Classifier</a> <br/>\n",
    "__27]__ <a href=\"27_hyperparameter_evaluation_logistic_regression_classifier.ipynb\">Hyperparameter Eveluation for the Logistic Regression Classifier</a> <br/>\n",
    "__28]__ <a href=\"28_hyperparameter_evaluation_random_forest_classifier.ipynb\">Hyperparameter Eveluation for the Random Forest Classifier</a> <br/>\n",
    "__29]__ <a href=\"29_hyperparameter_evaluation_k_nearest_neighbor_with_images.ipynb\">Hyperparameter Eveluation for the K Nearest Neighbor Classifier for Images</a> <br/>\n",
    "__30]__ <a href=\"30_hyperparameter_evaluation_k_nearest_neighbor_with_palettes.ipynb\">Hyperparameter Eveluation for the K Nearest Neighbor Classifier for Palettes</a> <br/>\n",
    "__31]__ <a href=\"31_hyperparameter_evaluation_k_nearest_neighbor_with_large_palettes.ipynb\">Hyperparameter Eveluation for the K Nearest Neighbor Classifier for Large Palettes</a> <br/>\n",
    "__32]__ <a href=\"32_hyperparameter_evaluation_dense_nn_with_tiles.ipynb\">Hyperparameter Eveluation for the Dense Neural Network Classifier</a> <br/>\n",
    "__33]__ <a href=\"33_hyperparameter_results.ipynb\">Hyperparameter Eveluation Results</a> <br/>"
   ]
  }
 ],
 "metadata": {
  "kernelspec": {
   "display_name": "Python 3",
   "language": "python",
   "name": "python3"
  },
  "language_info": {
   "codemirror_mode": {
    "name": "ipython",
    "version": 3
   },
   "file_extension": ".py",
   "mimetype": "text/x-python",
   "name": "python",
   "nbconvert_exporter": "python",
   "pygments_lexer": "ipython3",
   "version": "3.6.10"
  }
 },
 "nbformat": 4,
 "nbformat_minor": 5
}
