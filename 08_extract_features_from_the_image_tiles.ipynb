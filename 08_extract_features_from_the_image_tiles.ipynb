{
 "cells": [
  {
   "cell_type": "markdown",
   "id": "primary-destruction",
   "metadata": {},
   "source": [
    "# Extract Features from the Image Tiles\n",
    "With the artwork images tiled, we can now process each tile to extract feature data."
   ]
  },
  {
   "cell_type": "code",
   "execution_count": 1,
   "id": "direct-yacht",
   "metadata": {},
   "outputs": [],
   "source": [
    "import warnings\n",
    "warnings.filterwarnings(\"ignore\", message=r\"Passing\", category=FutureWarning)\n",
    "import tensorflow as tf\n",
    "import os\n",
    "import logging\n",
    "import tensorflow_hub as hub\n",
    "import pandas as pd\n",
    "import PIL.Image as Image\n",
    "import numpy as np\n",
    "import sqlite3\n",
    "from numpy import savez_compressed\n",
    "from glob import glob\n",
    "import sys"
   ]
  },
  {
   "cell_type": "code",
   "execution_count": 2,
   "id": "resident-acrobat",
   "metadata": {},
   "outputs": [],
   "source": [
    "# turn off tensorflow INFO messages\n",
    "tf.logging.set_verbosity(30)"
   ]
  },
  {
   "cell_type": "markdown",
   "id": "interim-dover",
   "metadata": {},
   "source": [
    "Set some key processing parameters"
   ]
  },
  {
   "cell_type": "code",
   "execution_count": 3,
   "id": "legitimate-tracy",
   "metadata": {},
   "outputs": [],
   "source": [
    "# define the tile dimentions\n",
    "TILE_WIDTH  = 96\n",
    "TILE_HEIGHT = 96\n",
    "\n",
    "# define file locations\n",
    "data_file_path = \"./data/\"\n",
    "tile_file_path = \"./data/tiles/\""
   ]
  },
  {
   "cell_type": "markdown",
   "id": "spanish-peripheral",
   "metadata": {},
   "source": [
    "Set the feature extractor."
   ]
  },
  {
   "cell_type": "code",
   "execution_count": 4,
   "id": "loose-hampshire",
   "metadata": {},
   "outputs": [],
   "source": [
    "# define module URL\n",
    "module_url = \"https://tfhub.dev/google/imagenet/mobilenet_v2_100_96/feature_vector/3\""
   ]
  },
  {
   "cell_type": "markdown",
   "id": "widespread-copyright",
   "metadata": {},
   "source": [
    "## Helper Function"
   ]
  },
  {
   "cell_type": "markdown",
   "id": "owned-activity",
   "metadata": {},
   "source": [
    "The function <code>get_image_tile_features()</code> opens a tile image and then using the feature extractor module <code>https://tfhub.dev/google/imagenet/mobilenet_v2_100_96/feature_vector/3</code>, it extracts the images features.<br/>\n",
    "__NOTE:__ The feature extraction process is run on the GPU device <code>/device:GPU:0</code>. (_Just as an experiment_)."
   ]
  },
  {
   "cell_type": "code",
   "execution_count": 5,
   "id": "every-calculation",
   "metadata": {},
   "outputs": [],
   "source": [
    "# define function to extract features\n",
    "def get_image_tile_features(image_name):\n",
    "\n",
    "    img_batch = np.array(Image.open(image_name), dtype = np.float32)[np.newaxis, :, :, :]/255\n",
    "\n",
    "    # create graph\n",
    "    img_graph = tf.Graph()\n",
    "    \n",
    "    with tf.device(\"/device:GPU:0\"):\n",
    "\n",
    "        with img_graph.as_default():\n",
    "\n",
    "            feature_extractor = hub.Module(module_url)\n",
    "\n",
    "            # create input placeholder\n",
    "            input_imgs = tf.placeholder(dtype=tf.float32, shape=[None, 96, 96, 3])\n",
    "\n",
    "            # a node with the features\n",
    "            imgs_features = feature_extractor(input_imgs)\n",
    "\n",
    "            # collect initializers\n",
    "            init_op = tf.group([tf.global_variables_initializer(), tf.tables_initializer()])\n",
    "\n",
    "        img_graph.finalize() \n",
    "\n",
    "        # create a session\n",
    "        sess = tf.Session(graph=img_graph)\n",
    "\n",
    "        # initialize it\n",
    "        sess.run(init_op)\n",
    "\n",
    "        # extract features\n",
    "        features = sess.run(imgs_features, feed_dict={input_imgs: img_batch})\n",
    "    \n",
    "        # return the features\n",
    "        return features"
   ]
  },
  {
   "cell_type": "markdown",
   "id": "discrete-transparency",
   "metadata": {},
   "source": [
    "## Connect to the Database\n",
    "Establish a connection to the RDBMS."
   ]
  },
  {
   "cell_type": "code",
   "execution_count": 6,
   "id": "dried-controversy",
   "metadata": {},
   "outputs": [],
   "source": [
    "# Create a DB connection between python and the file system\n",
    "conn = sqlite3.connect(''.join([data_file_path,\"/database/artist.db\"]))"
   ]
  },
  {
   "cell_type": "markdown",
   "id": "conscious-packing",
   "metadata": {},
   "source": [
    "Select all image_tags from the RDBMS. <br/>\n",
    "__NOTE:__ the additional clause <code>WHERE ARTWORK_ID >= 0</code> has been implemented. This allows the process to be restarted from a give <code>artwork_id</code> value. This is useful when testing and when you can not leave the process running to completion. As you can stop it and at a later point, pick up from where you left off."
   ]
  },
  {
   "cell_type": "code",
   "execution_count": 7,
   "id": "serious-bennett",
   "metadata": {},
   "outputs": [],
   "source": [
    "# select all image tags\n",
    "image_data = pd.read_sql_query(\"\"\"SELECT IMAGE_TAG\n",
    "                                  FROM   ARTWORK_IMAGE\n",
    "                                  WHERE  ARTWORK_ID >= 0;\"\"\", conn)\n",
    "\n",
    "# NOTE: the where statement allows the process to be restarted\n",
    "#       to continue from where it finished should the process\n",
    "#       be stopped. the feature extraction process is quite\n",
    "#       slow. the default value is 0. to start at the beginning."
   ]
  },
  {
   "cell_type": "markdown",
   "id": "still-ambassador",
   "metadata": {},
   "source": [
    "## Process the Image Tiles\n",
    "Extract the image feature data and save it file compressed data files. As the process runs, the \"Processed image\" and \"tile\" indicators are updated. This is useful should you wish to stop the process and restart at a later point in time. <br/>When the tiles of all images have been processed the text <code>Completed</code> is displayed."
   ]
  },
  {
   "cell_type": "code",
   "execution_count": 8,
   "id": "contrary-portsmouth",
   "metadata": {},
   "outputs": [
    {
     "name": "stdout",
     "output_type": "stream",
     "text": [
      "Processed image: 0103 tile: 064\n",
      "Completed\n"
     ]
    }
   ],
   "source": [
    "image_count          = 0\n",
    "\n",
    "# loop through datasets\n",
    "for image_tag in image_data[\"image_tag\"]:\n",
    "\n",
    "    # arrays to store features and catagory tags\n",
    "    images_features  = []\n",
    "    image_tile_tags  = []\n",
    "    \n",
    "    # set counters\n",
    "    image_tile_count = 0\n",
    "    image_count     += 1\n",
    "    \n",
    "    # loop through all training image tiles\n",
    "    for file_name in glob(\"\".join([\"./data/tiles/\",image_tag,\"/\",image_tag,\"*.png\"])): \n",
    "        \n",
    "        # archive image features\n",
    "        images_features.append(get_image_tile_features(file_name))\n",
    "\n",
    "        # archive image tile tag\n",
    "        image_tile_tags.append(file_name[-17:-4])       \n",
    "        \n",
    "        # simple progress indicator. Show a '*' every 5 images processed\n",
    "        image_tile_count += 1\n",
    "        \n",
    "        # output progress\n",
    "        sys.stdout.write(f\"\\rProcessed image: {image_tag[-7:]} tile: {str(image_tile_count).zfill(3)}\")\n",
    "            \n",
    "    # write file after each image has been processed (incase it fails)\n",
    "    savez_compressed(\"\".join([\"./data/features/\",image_tag,\"_feature_set\"]),images_features, image_tile_tags)\n",
    "\n",
    "# indicate that process is finished\n",
    "print('\\nCompleted')"
   ]
  }
 ],
 "metadata": {
  "kernelspec": {
   "display_name": "Python 3",
   "language": "python",
   "name": "python3"
  },
  "language_info": {
   "codemirror_mode": {
    "name": "ipython",
    "version": 3
   },
   "file_extension": ".py",
   "mimetype": "text/x-python",
   "name": "python",
   "nbconvert_exporter": "python",
   "pygments_lexer": "ipython3",
   "version": "3.6.10"
  }
 },
 "nbformat": 4,
 "nbformat_minor": 5
}
