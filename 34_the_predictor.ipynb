{
 "cells": [
  {
   "cell_type": "markdown",
   "id": "junior-ribbon",
   "metadata": {},
   "source": [
    "# SECTION FIVE: The Artwork Predictor\n",
    "In this part of the project the the key elements are pulled together into the Artwork Predictor. <br>\n",
    "__35]__ <a href=\"35_the_artwork_predictor.ipynb\">The Artwork Predictor</a> - _Here we allow the end-user to select an artwork from the test set and then:_\n",
    "- Identify the the Artist that created the selected Work of Art. <br/>\n",
    "- Attempt to identify both the _Genre_ & _Style_ of the Work of Art. <br/>\n",
    "- Recommend visually similar Works of Art that would complement the chosen Work of Art\n",
    "\n",
    "__36]__ <a href=\"36_comments_and_thoughts.ipynb\">Comments & Thoughts.</a>"
   ]
  }
 ],
 "metadata": {
  "kernelspec": {
   "display_name": "Python 3",
   "language": "python",
   "name": "python3"
  },
  "language_info": {
   "codemirror_mode": {
    "name": "ipython",
    "version": 3
   },
   "file_extension": ".py",
   "mimetype": "text/x-python",
   "name": "python",
   "nbconvert_exporter": "python",
   "pygments_lexer": "ipython3",
   "version": "3.6.10"
  }
 },
 "nbformat": 4,
 "nbformat_minor": 5
}
