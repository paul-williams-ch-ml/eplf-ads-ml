{
 "cells": [
  {
   "cell_type": "markdown",
   "metadata": {},
   "source": [
    "# Create the Database\n",
    "This is a small _RDBMS_ created to hold the text based data of the artworks."
   ]
  },
  {
   "cell_type": "code",
   "execution_count": 1,
   "metadata": {},
   "outputs": [],
   "source": [
    "import pandas as pd\n",
    "import numpy as np\n",
    "import sqlite3"
   ]
  },
  {
   "cell_type": "code",
   "execution_count": 2,
   "metadata": {},
   "outputs": [],
   "source": [
    "data_file_path = \"./data/\""
   ]
  },
  {
   "cell_type": "code",
   "execution_count": 3,
   "metadata": {},
   "outputs": [],
   "source": [
    "combined_artists = pd.read_csv(\"\".join([data_file_path,\"combined_artists/combined_artists.csv\"]))"
   ]
  },
  {
   "cell_type": "markdown",
   "metadata": {},
   "source": [
    "## ER Diagram <br/>\n",
    "The Artists metadata database. <br/>\n",
    "<img src=\"./images/artists_er_diagram.png\" width=\"1280px\"><br/>\n",
    "__NOTE:__ as we are dealing with a small dataset and as this is not a _database design_ course. I shall keep the design as simple as possible. If the entire catalog of the _wikiart.org_ website were to be used. Then performance modifications could be made to both the database design and the query statements throughout the rest of the project. "
   ]
  },
  {
   "cell_type": "markdown",
   "metadata": {},
   "source": [
    "## The creation of DataFrames holding the data to be placed into the RDBMS Tables\n",
    "First we will construct DataFrames containing the key fields using the flexibility of the DataFrame to allow data manipulation where needed. Once the data is in a form ready for the RDBMS we can construct the tables and populate them. "
   ]
  },
  {
   "cell_type": "markdown",
   "metadata": {},
   "source": [
    "## Create the _artist_table_data_ Dataframe\n",
    "The primary list of Artists."
   ]
  },
  {
   "cell_type": "code",
   "execution_count": 4,
   "metadata": {},
   "outputs": [],
   "source": [
    "# create the dataframe\n",
    "artist_table_data             = pd.DataFrame(sorted(combined_artists[\"artist\"].unique()), columns = [\"name\"])\n",
    "artist_table_data.index.names = [\"id\"]"
   ]
  },
  {
   "cell_type": "markdown",
   "metadata": {},
   "source": [
    "## Create the _genre_table_data_ Dataframe\n",
    "The primary list of genres."
   ]
  },
  {
   "cell_type": "code",
   "execution_count": 5,
   "metadata": {},
   "outputs": [],
   "source": [
    "# create the dataframe\n",
    "genre_table_data             = pd.DataFrame(sorted(combined_artists[\"genre\"].unique()), columns = [\"genre\"])\n",
    "genre_table_data.index.names = [\"id\"]"
   ]
  },
  {
   "cell_type": "markdown",
   "metadata": {},
   "source": [
    "## Create the _style_table_data_ Dataframe\n",
    "The primary list of Genres."
   ]
  },
  {
   "cell_type": "code",
   "execution_count": 6,
   "metadata": {},
   "outputs": [],
   "source": [
    "# create the dataframe\n",
    "style_table_data             = pd.DataFrame(sorted(set(str(combined_artists[\"style\"].unique()).replace(\"\\\"[\", \"\").replace(\"]\\\"\", \"\").replace(\"\\n\", \"\").replace(\"' '\", \",\").replace(\"', '\", \",\").replace(\"['\", \"\").replace(\"']\", \"\").split(\",\"))), columns = [\"style\"])\n",
    "style_table_data.index.names = [\"id\"]"
   ]
  },
  {
   "cell_type": "markdown",
   "metadata": {},
   "source": [
    "## Create the _artwork_table_data_ Dataframe\n",
    "Key data about the Artwork:\n",
    "- The artist\n",
    "- The genre\n",
    "- The artworks title\n",
    "- year of completion"
   ]
  },
  {
   "cell_type": "code",
   "execution_count": 7,
   "metadata": {},
   "outputs": [],
   "source": [
    "# create the dataframe\n",
    "artwork_table_data                      = pd.DataFrame()\n",
    "artwork_table_data[        \"artist_id\"] = combined_artists[           \"artist\"].apply(lambda x: artist_table_data[\"name\"][artist_table_data[\"name\"] == x].index[0])\n",
    "artwork_table_data[\"artist_artwork_id\"] = combined_artists[\"artist_artwork_id\"]\n",
    "artwork_table_data[         \"genre_id\"] = combined_artists[            \"genre\"].apply(lambda x: genre_table_data[\"genre\"][genre_table_data[\"genre\"] == x].index[0])\n",
    "artwork_table_data[            \"title\"] = combined_artists[            \"title\"]\n",
    "artwork_table_data[             \"year\"] = combined_artists[             \"year\"]\n",
    "artwork_table_data.index.names          = [                               \"id\"]"
   ]
  },
  {
   "cell_type": "markdown",
   "metadata": {},
   "source": [
    "## Create the _artwork_style_table_data_ Dataframe\n",
    "Linking a artwork to the list of styles. An artwork can be considered to have more than one style. This table provides that mapping to allow this _Many-to-Many_ deffinition."
   ]
  },
  {
   "cell_type": "code",
   "execution_count": 8,
   "metadata": {},
   "outputs": [],
   "source": [
    "# create the dataframe\n",
    "artwork_style_table_data = pd.DataFrame()\n",
    "\n",
    "# loop through all values withing the combined_artists dataframes index\n",
    "for artwork_id in combined_artists.index:\n",
    "    \n",
    "    # select the data row for the current index value\n",
    "    row_data = combined_artists.iloc[artwork_id]\n",
    "    \n",
    "    # split the style column and loop throught each value (normally only one). when we\n",
    "    # find multiple values we generate a row for each value\n",
    "    for artworks_style in str(row_data[\"style\"]).replace(\"[\", \"\").replace(\"]\", \"\").replace(\"''\", \"\").replace(\"'\", \"\").split(\",\"):\n",
    "        \n",
    "        # lookup the style_id in the previously created style_table_data dataframe\n",
    "        style_id = style_table_data[style_table_data[\"style\"] == artworks_style.strip()].index[0]\n",
    "        \n",
    "        # create a dict containing just the artwork_id and the style_id\n",
    "        row_data = {\"artwork_id\" : artwork_id,\n",
    "                    \"style_id\"   : style_id}\n",
    "        \n",
    "        # append the dict as a row to the artwork_style_table_data dataframe\n",
    "        artwork_style_table_data = artwork_style_table_data.append(row_data, ignore_index = True)\n",
    "\n",
    "# force both data columns of the dataframe to be integers\n",
    "artwork_style_table_data = artwork_style_table_data.astype('int32')"
   ]
  },
  {
   "cell_type": "markdown",
   "metadata": {},
   "source": [
    "## Create the _artwork_image_table_data_ Dataframe\n",
    "Contains the __URL__ of the image on the _WikiArt_ webserver. The __filename__ of its file held locally on the PC filesystem and the __IMAGE_TAG__ used for identifying the image in the code."
   ]
  },
  {
   "cell_type": "code",
   "execution_count": 9,
   "metadata": {},
   "outputs": [],
   "source": [
    "# create the dataframe\n",
    "artwork_image_table_data = pd.DataFrame()\n",
    "\n",
    "# get the unique artwork_id from the combined_artists index\n",
    "artwork_image_table_data[           \"artwork_id\"] = combined_artists.index\n",
    "\n",
    "# create a temporary column to hold the artist_id\n",
    "artwork_image_table_data[        \"tmp_artist_id\"] = combined_artists[\"artist\"].apply(lambda x: artist_table_data[\"name\"][artist_table_data[\"name\"] == x].index[0])\n",
    "\n",
    "# create a temporary column to hold the artist_artwork_id\n",
    "artwork_image_table_data[\"tmp_artist_artwork_id\"] = combined_artists[\"artist_artwork_id\"]\n",
    "artwork_image_table_data[\"tmp_artist_artwork_id\"] = artwork_image_table_data[\"tmp_artist_artwork_id\"].astype('int32')\n",
    "\n",
    "# generate the image filename\n",
    "artwork_image_table_data[       \"image_filename\"] = artwork_image_table_data.apply(lambda x: \"full_image_{:02}_{:04}.jpg\".format(x[\"tmp_artist_id\"],x[\"tmp_artist_artwork_id\"] ), axis=1)\n",
    "  \n",
    "# generate the image tag\n",
    "artwork_image_table_data[            \"image_tag\"] = artwork_image_table_data.apply(lambda x: \"{:02}_{:04}\".format(               x[\"tmp_artist_id\"],x[\"tmp_artist_artwork_id\"] ), axis=1)\n",
    "    \n",
    "# add the url of the image\n",
    "artwork_image_table_data[                  \"url\"] = combined_artists[\"url\"]    \n",
    "    \n",
    "# delete the temporary columns\n",
    "artwork_image_table_data.drop([\"tmp_artist_id\", \"tmp_artist_artwork_id\"], axis = 1, inplace = True)"
   ]
  },
  {
   "cell_type": "markdown",
   "metadata": {},
   "source": [
    "## Create the _artist_style_table_data_ Dataframe\n",
    "This table contains the _Style Profile_ of each artist. It holds details of each style that the artist has been known to have used and a percentage of their body of work that is in this style."
   ]
  },
  {
   "cell_type": "code",
   "execution_count": 10,
   "metadata": {},
   "outputs": [],
   "source": [
    "# create the dataframe\n",
    "artist_style_table_data = pd.DataFrame()\n",
    "\n",
    "# loop through all values withing the combined_artists dataframes index\n",
    "for artwork_id in combined_artists.index:\n",
    "\n",
    "    try:\n",
    "        # select the data row for the current index value\n",
    "        row_data = combined_artists.iloc[artwork_id]\n",
    "\n",
    "        # split the style column and loop throught each value (normally only one). when we\n",
    "        # find multiple values we generate a row for each value\n",
    "        for artwork_style in str(row_data[\"style\"]).replace(\"[\", \"\").replace(\"]\", \"\").replace(\"''\", \"\").replace(\"'\", \"\").split(\",\"):\n",
    "\n",
    "            # create a dict containing just the artwork_id and the style_id\n",
    "            row_data = {\"artist\" : row_data[\"artist\"],\n",
    "                        \"style\"   : artwork_style}\n",
    "\n",
    "            # append the dict as a row to the artwork_style_table_data dataframe\n",
    "            artist_style_table_data = artist_style_table_data.append(row_data, ignore_index = True)\n",
    "    except:\n",
    "        pass\n",
    "\n",
    "# count the number of artworks per artist\n",
    "artist_total_style = pd.DataFrame(artist_style_table_data.groupby([\"artist\"]).count()[\"style\"]).rename(columns={\"style\" : \"count_total\"})\n",
    "artist_total_style.reset_index(inplace = True)\n",
    "\n",
    "# set up the count column\n",
    "artist_style_table_data[\"count\"] = 0\n",
    "\n",
    "# count the number of artworks by style for each artist\n",
    "artist_style_table_data = pd.DataFrame(artist_style_table_data.groupby([\"artist\", \"style\"]).count()[\"count\"]).rename(columns={\"count_total\" : \"count\"})\n",
    "artist_style_table_data.reset_index(inplace = True)\n",
    "\n",
    "# add the total artworks as a coulmn to the number of \n",
    "# artworks by genre for each artist dataset\n",
    "artist_style_table_data = artist_style_table_data.merge(artist_total_style)\n",
    "\n",
    "# calculate the percentage of the artists artworks that\n",
    "# are of the genre\n",
    "artist_style_table_data[\"percentage\"] = ((100 / artist_style_table_data[\"count_total\"]) * artist_style_table_data[\"count\"]).round(2)\n",
    "\n",
    "# replace text values with id values\n",
    "artist_style_table_data[    \"artist\"] = artist_style_table_data[\"artist\"].apply(lambda x: artist_table_data[\"name\"][artist_table_data[\"name\"] == x.strip()].index[0])\n",
    "artist_style_table_data[     \"style\"] = artist_style_table_data[\"style\"].apply(lambda  x: style_table_data[\"style\"][style_table_data[\"style\"] == x.strip()].index[0])\n",
    "\n",
    "# modify the column names\n",
    "artist_style_table_data.rename(columns={\"artist\" : \"artist_id\", \"style\" : \"style_id\"}, inplace = True)\n",
    "\n",
    "# drop the total_count column\n",
    "artist_style_table_data.drop(columns={\"count_total\"}, inplace = True)"
   ]
  },
  {
   "cell_type": "markdown",
   "metadata": {},
   "source": [
    "## Create the _artist_genre_table_data_ Dataframe\n",
    "This table contains the _Genre Profile_ of each artist. It holds details of each genre that the artist has been known to have used and a percentage of their body of work that is of this genre."
   ]
  },
  {
   "cell_type": "code",
   "execution_count": 11,
   "metadata": {},
   "outputs": [],
   "source": [
    "# create the dataframe\n",
    "artist_genre_table_data = pd.DataFrame()\n",
    "\n",
    "# count the number of artworks per artist\n",
    "artist_total_artworks = pd.DataFrame(combined_artists.groupby([\"artist\"]).count()[\"title\"]).rename(columns={\"title\" : \"count_total\"})\n",
    "artist_total_artworks.reset_index(inplace = True)\n",
    "\n",
    "# count the number of artworks by genre for each artist\n",
    "artist_genre_table_data = pd.DataFrame(combined_artists.groupby([\"artist\", \"genre\"]).count()[\"title\"]).rename(columns={\"title\" : \"count\"})\n",
    "artist_genre_table_data.reset_index(inplace = True)\n",
    "\n",
    "# add the total artworks as a coulmn to the number of \n",
    "# artworks by genre for each artist dataset\n",
    "artist_genre_table_data = artist_genre_table_data.merge(artist_total_artworks)\n",
    "\n",
    "# calculate the percentage of the artists artworks that\n",
    "# are of the genre\n",
    "artist_genre_table_data[\"percentage\"] = ((100 / artist_genre_table_data[\"count_total\"]) * artist_genre_table_data[\"count\"]).round(2)\n",
    "\n",
    "# replace text values with id values\n",
    "artist_genre_table_data[    \"artist\"] = artist_genre_table_data[\"artist\"].apply(lambda x: artist_table_data[\"name\" ][artist_table_data[\"name\"] == x.strip()].index[0])\n",
    "artist_genre_table_data[     \"genre\"] = artist_genre_table_data[\"genre\" ].apply(lambda x: genre_table_data[ \"genre\"][genre_table_data[\"genre\"] == x.strip()].index[0])\n",
    "\n",
    "# modify the column names\n",
    "artist_genre_table_data.rename(columns={\"artist\" : \"artist_id\", \"genre\" : \"genre_id\"}, inplace = True)\n",
    "\n",
    "# drop the total_count column\n",
    "artist_genre_table_data.drop(columns={\"count_total\"}, inplace = True)"
   ]
  },
  {
   "cell_type": "markdown",
   "metadata": {},
   "source": [
    "## Build the Database file\n",
    "It will be automatically created if it does not already exist"
   ]
  },
  {
   "cell_type": "code",
   "execution_count": 12,
   "metadata": {},
   "outputs": [],
   "source": [
    "# Create a DB connection between python and the file system\n",
    "conn = sqlite3.connect(''.join([data_file_path,\"/database/artist.db\"]))"
   ]
  },
  {
   "cell_type": "markdown",
   "metadata": {},
   "source": [
    "## Create and Popluate the Database Tables\n",
    "Now we are ready to create the tables and populate them with the data."
   ]
  },
  {
   "cell_type": "code",
   "execution_count": 13,
   "metadata": {},
   "outputs": [],
   "source": [
    "# Convert the dataFrames to DB tables.\n",
    "artist_table_data.to_sql(       \"ARTIST\"       , conn, if_exists = \"replace\")\n",
    "genre_table_data.to_sql(        \"GENRE\"        , conn, if_exists = \"replace\")\n",
    "style_table_data.to_sql(        \"STYLE\"        , conn, if_exists = \"replace\")\n",
    "artwork_table_data.to_sql(      \"ARTWORK\"      , conn, if_exists = \"replace\")\n",
    "artwork_style_table_data.to_sql(\"ARTWORK_STYLE\", conn, if_exists = \"replace\")\n",
    "artwork_image_table_data.to_sql(\"ARTWORK_IMAGE\", conn, if_exists = \"replace\")\n",
    "artist_style_table_data.to_sql( \"ARTIST_STYLE\" , conn, if_exists = \"replace\")\n",
    "artist_genre_table_data.to_sql( \"ARTIST_GENRE\" , conn, if_exists = \"replace\")"
   ]
  }
 ],
 "metadata": {
  "kernelspec": {
   "display_name": "Python 3",
   "language": "python",
   "name": "python3"
  },
  "language_info": {
   "codemirror_mode": {
    "name": "ipython",
    "version": 3
   },
   "file_extension": ".py",
   "mimetype": "text/x-python",
   "name": "python",
   "nbconvert_exporter": "python",
   "pygments_lexer": "ipython3",
   "version": "3.6.10"
  }
 },
 "nbformat": 4,
 "nbformat_minor": 4
}
